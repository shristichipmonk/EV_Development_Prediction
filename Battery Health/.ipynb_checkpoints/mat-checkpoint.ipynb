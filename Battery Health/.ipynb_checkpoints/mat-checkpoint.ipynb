{
 "cells": [
  {
   "cell_type": "code",
   "execution_count": null,
   "id": "df0bc28b",
   "metadata": {},
   "outputs": [],
   "source": [
    "import scipy.io\n",
    "import pandas as pd\n",
    "mat = scipy.io.loadmat('path_to_/fiename.mat') \n",
    "mat = {k:v for k, v in mat.items() if k[0] != '_'}\n",
    "data = pd.DataFrame({k: pd.Series(v[0]) for k, v in mat.iteritems()})\n",
    "data.to_csv(\"fiename.csv\")\n"
   ]
  }
 ],
 "metadata": {
  "kernelspec": {
   "display_name": "Python 3 (ipykernel)",
   "language": "python",
   "name": "python3"
  },
  "language_info": {
   "codemirror_mode": {
    "name": "ipython",
    "version": 3
   },
   "file_extension": ".py",
   "mimetype": "text/x-python",
   "name": "python",
   "nbconvert_exporter": "python",
   "pygments_lexer": "ipython3",
   "version": "3.9.16"
  }
 },
 "nbformat": 4,
 "nbformat_minor": 5
}
