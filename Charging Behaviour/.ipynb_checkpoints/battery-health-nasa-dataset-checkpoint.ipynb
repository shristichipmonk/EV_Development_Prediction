{
 "cells": [
  {
   "cell_type": "markdown",
   "id": "15e8be44",
   "metadata": {
    "papermill": {
     "duration": 0.027906,
     "end_time": "2021-07-22T04:44:58.573975",
     "exception": false,
     "start_time": "2021-07-22T04:44:58.546069",
     "status": "completed"
    },
    "tags": []
   },
   "source": [
    "# Introduction\n",
    "Manual for the preparation and use of the Deep Learning model for battery SoH prediction\n",
    "This Python Notebook shows and analyzes how the battery charge / discharge dataset obtained from NASA should be treated. It also shows how the model proposed by [1] and [2] is prepared and its encoding necessary to be used.\n",
    "\n",
    "Requirements\n",
    "For the training phase of this model it is necessary to have Python 3.x installed along with the following libraries:\n",
    "\n",
    "Tensorflow 2.0\n",
    "Numpy\n",
    "Pandas\n",
    "Scipy\n",
    "Sci-kit learn\n",
    "Matplot\n",
    "Seaborn\n",
    "For the prediction phase of this model it is necessary to have the same libraries with the exception of Matplot and Seaborn\n",
    "\n",
    "Dataset preparation\n",
    "Since this manual was created from Google Colab (this may not be necessary to do it in an offline environment), it is necessary to download the dataset and then unzip it in a specific directory."
   ]
  },
  {
   "cell_type": "code",
   "execution_count": 5,
   "id": "28f2e3df",
   "metadata": {
    "execution": {
     "iopub.execute_input": "2021-07-22T04:44:58.633904Z",
     "iopub.status.busy": "2021-07-22T04:44:58.632628Z",
     "iopub.status.idle": "2021-07-22T04:44:58.652037Z",
     "shell.execute_reply": "2021-07-22T04:44:58.652614Z",
     "shell.execute_reply.started": "2021-07-21T14:55:52.119771Z"
    },
    "papermill": {
     "duration": 0.051931,
     "end_time": "2021-07-22T04:44:58.652915",
     "exception": false,
     "start_time": "2021-07-22T04:44:58.600984",
     "status": "completed"
    },
    "tags": []
   },
   "outputs": [],
   "source": [
    "%config Completer.use_jedi = False"
   ]
  },
  {
   "cell_type": "code",
   "execution_count": 6,
   "id": "0cb62f4e",
   "metadata": {
    "execution": {
     "iopub.execute_input": "2021-07-22T04:44:58.709412Z",
     "iopub.status.busy": "2021-07-22T04:44:58.708761Z",
     "iopub.status.idle": "2021-07-22T04:46:17.516608Z",
     "shell.execute_reply": "2021-07-22T04:46:17.515963Z",
     "shell.execute_reply.started": "2021-07-21T14:55:52.144381Z"
    },
    "papermill": {
     "duration": 78.83729,
     "end_time": "2021-07-22T04:46:17.516783",
     "exception": false,
     "start_time": "2021-07-22T04:44:58.679493",
     "status": "completed"
    },
    "tags": []
   },
   "outputs": [
    {
     "name": "stdout",
     "output_type": "stream",
     "text": [
      "Collecting tensorflow\n",
      "  Obtaining dependency information for tensorflow from https://files.pythonhosted.org/packages/e4/14/d795bb156f8cc10eb1dcfe1332b7dbb8405b634688980aa9be8f885cc888/tensorflow-2.16.1-cp311-cp311-win_amd64.whl.metadata\n",
      "  Using cached tensorflow-2.16.1-cp311-cp311-win_amd64.whl.metadata (3.5 kB)\n",
      "Collecting tensorflow-intel==2.16.1 (from tensorflow)\n",
      "  Obtaining dependency information for tensorflow-intel==2.16.1 from https://files.pythonhosted.org/packages/e0/36/6278e4e7e69a90c00e0f82944d8f2713dd85a69d1add455d9e50446837ab/tensorflow_intel-2.16.1-cp311-cp311-win_amd64.whl.metadata\n",
      "  Using cached tensorflow_intel-2.16.1-cp311-cp311-win_amd64.whl.metadata (5.0 kB)\n",
      "Requirement already satisfied: absl-py>=1.0.0 in c:\\users\\shubh\\anaconda\\lib\\site-packages (from tensorflow-intel==2.16.1->tensorflow) (2.1.0)\n",
      "Requirement already satisfied: astunparse>=1.6.0 in c:\\users\\shubh\\anaconda\\lib\\site-packages (from tensorflow-intel==2.16.1->tensorflow) (1.6.3)\n",
      "Requirement already satisfied: flatbuffers>=23.5.26 in c:\\users\\shubh\\anaconda\\lib\\site-packages (from tensorflow-intel==2.16.1->tensorflow) (24.3.25)\n",
      "Requirement already satisfied: gast!=0.5.0,!=0.5.1,!=0.5.2,>=0.2.1 in c:\\users\\shubh\\anaconda\\lib\\site-packages (from tensorflow-intel==2.16.1->tensorflow) (0.5.4)\n",
      "Requirement already satisfied: google-pasta>=0.1.1 in c:\\users\\shubh\\anaconda\\lib\\site-packages (from tensorflow-intel==2.16.1->tensorflow) (0.2.0)\n",
      "Requirement already satisfied: h5py>=3.10.0 in c:\\users\\shubh\\anaconda\\lib\\site-packages (from tensorflow-intel==2.16.1->tensorflow) (3.11.0)\n",
      "Requirement already satisfied: libclang>=13.0.0 in c:\\users\\shubh\\anaconda\\lib\\site-packages (from tensorflow-intel==2.16.1->tensorflow) (18.1.1)\n",
      "Requirement already satisfied: ml-dtypes~=0.3.1 in c:\\users\\shubh\\anaconda\\lib\\site-packages (from tensorflow-intel==2.16.1->tensorflow) (0.3.2)\n",
      "Requirement already satisfied: opt-einsum>=2.3.2 in c:\\users\\shubh\\anaconda\\lib\\site-packages (from tensorflow-intel==2.16.1->tensorflow) (3.3.0)\n",
      "Requirement already satisfied: packaging in c:\\users\\shubh\\anaconda\\lib\\site-packages (from tensorflow-intel==2.16.1->tensorflow) (23.1)\n",
      "Requirement already satisfied: protobuf!=4.21.0,!=4.21.1,!=4.21.2,!=4.21.3,!=4.21.4,!=4.21.5,<5.0.0dev,>=3.20.3 in c:\\users\\shubh\\anaconda\\lib\\site-packages (from tensorflow-intel==2.16.1->tensorflow) (4.25.3)\n",
      "Requirement already satisfied: requests<3,>=2.21.0 in c:\\users\\shubh\\anaconda\\lib\\site-packages (from tensorflow-intel==2.16.1->tensorflow) (2.31.0)\n",
      "Requirement already satisfied: setuptools in c:\\users\\shubh\\anaconda\\lib\\site-packages (from tensorflow-intel==2.16.1->tensorflow) (68.0.0)\n",
      "Requirement already satisfied: six>=1.12.0 in c:\\users\\shubh\\anaconda\\lib\\site-packages (from tensorflow-intel==2.16.1->tensorflow) (1.16.0)\n",
      "Requirement already satisfied: termcolor>=1.1.0 in c:\\users\\shubh\\anaconda\\lib\\site-packages (from tensorflow-intel==2.16.1->tensorflow) (2.4.0)\n",
      "Requirement already satisfied: typing-extensions>=3.6.6 in c:\\users\\shubh\\anaconda\\lib\\site-packages (from tensorflow-intel==2.16.1->tensorflow) (4.7.1)\n",
      "Requirement already satisfied: wrapt>=1.11.0 in c:\\users\\shubh\\anaconda\\lib\\site-packages (from tensorflow-intel==2.16.1->tensorflow) (1.14.1)\n",
      "Requirement already satisfied: grpcio<2.0,>=1.24.3 in c:\\users\\shubh\\anaconda\\lib\\site-packages (from tensorflow-intel==2.16.1->tensorflow) (1.62.2)\n",
      "Requirement already satisfied: tensorboard<2.17,>=2.16 in c:\\users\\shubh\\anaconda\\lib\\site-packages (from tensorflow-intel==2.16.1->tensorflow) (2.16.2)\n",
      "Requirement already satisfied: keras>=3.0.0 in c:\\users\\shubh\\anaconda\\lib\\site-packages (from tensorflow-intel==2.16.1->tensorflow) (3.3.3)\n",
      "Requirement already satisfied: tensorflow-io-gcs-filesystem>=0.23.1 in c:\\users\\shubh\\anaconda\\lib\\site-packages (from tensorflow-intel==2.16.1->tensorflow) (0.31.0)\n",
      "Requirement already satisfied: numpy<2.0.0,>=1.23.5 in c:\\users\\shubh\\anaconda\\lib\\site-packages (from tensorflow-intel==2.16.1->tensorflow) (1.24.3)\n",
      "Requirement already satisfied: wheel<1.0,>=0.23.0 in c:\\users\\shubh\\anaconda\\lib\\site-packages (from astunparse>=1.6.0->tensorflow-intel==2.16.1->tensorflow) (0.38.4)\n",
      "Requirement already satisfied: rich in c:\\users\\shubh\\anaconda\\lib\\site-packages (from keras>=3.0.0->tensorflow-intel==2.16.1->tensorflow) (13.7.1)\n",
      "Requirement already satisfied: namex in c:\\users\\shubh\\anaconda\\lib\\site-packages (from keras>=3.0.0->tensorflow-intel==2.16.1->tensorflow) (0.0.8)\n",
      "Requirement already satisfied: optree in c:\\users\\shubh\\anaconda\\lib\\site-packages (from keras>=3.0.0->tensorflow-intel==2.16.1->tensorflow) (0.11.0)\n",
      "Requirement already satisfied: charset-normalizer<4,>=2 in c:\\users\\shubh\\anaconda\\lib\\site-packages (from requests<3,>=2.21.0->tensorflow-intel==2.16.1->tensorflow) (2.0.4)\n",
      "Requirement already satisfied: idna<4,>=2.5 in c:\\users\\shubh\\anaconda\\lib\\site-packages (from requests<3,>=2.21.0->tensorflow-intel==2.16.1->tensorflow) (3.4)\n",
      "Requirement already satisfied: urllib3<3,>=1.21.1 in c:\\users\\shubh\\anaconda\\lib\\site-packages (from requests<3,>=2.21.0->tensorflow-intel==2.16.1->tensorflow) (1.26.16)\n",
      "Requirement already satisfied: certifi>=2017.4.17 in c:\\users\\shubh\\anaconda\\lib\\site-packages (from requests<3,>=2.21.0->tensorflow-intel==2.16.1->tensorflow) (2023.7.22)\n",
      "Requirement already satisfied: markdown>=2.6.8 in c:\\users\\shubh\\anaconda\\lib\\site-packages (from tensorboard<2.17,>=2.16->tensorflow-intel==2.16.1->tensorflow) (3.4.1)\n",
      "Requirement already satisfied: tensorboard-data-server<0.8.0,>=0.7.0 in c:\\users\\shubh\\anaconda\\lib\\site-packages (from tensorboard<2.17,>=2.16->tensorflow-intel==2.16.1->tensorflow) (0.7.2)\n",
      "Requirement already satisfied: werkzeug>=1.0.1 in c:\\users\\shubh\\anaconda\\lib\\site-packages (from tensorboard<2.17,>=2.16->tensorflow-intel==2.16.1->tensorflow) (2.2.3)\n",
      "Requirement already satisfied: MarkupSafe>=2.1.1 in c:\\users\\shubh\\anaconda\\lib\\site-packages (from werkzeug>=1.0.1->tensorboard<2.17,>=2.16->tensorflow-intel==2.16.1->tensorflow) (2.1.1)\n",
      "Requirement already satisfied: markdown-it-py>=2.2.0 in c:\\users\\shubh\\anaconda\\lib\\site-packages (from rich->keras>=3.0.0->tensorflow-intel==2.16.1->tensorflow) (2.2.0)\n",
      "Requirement already satisfied: pygments<3.0.0,>=2.13.0 in c:\\users\\shubh\\anaconda\\lib\\site-packages (from rich->keras>=3.0.0->tensorflow-intel==2.16.1->tensorflow) (2.15.1)\n",
      "Requirement already satisfied: mdurl~=0.1 in c:\\users\\shubh\\anaconda\\lib\\site-packages (from markdown-it-py>=2.2.0->rich->keras>=3.0.0->tensorflow-intel==2.16.1->tensorflow) (0.1.0)\n",
      "Using cached tensorflow-2.16.1-cp311-cp311-win_amd64.whl (2.1 kB)\n",
      "Using cached tensorflow_intel-2.16.1-cp311-cp311-win_amd64.whl (377.0 MB)\n",
      "Installing collected packages: tensorflow-intel, tensorflow\n",
      "Successfully installed tensorflow-2.16.1 tensorflow-intel-2.16.1\n"
     ]
    },
    {
     "name": "stderr",
     "output_type": "stream",
     "text": [
      "'wget' is not recognized as an internal or external command,\n",
      "operable program or batch file.\n",
      "'unzip' is not recognized as an internal or external command,\n",
      "operable program or batch file.\n"
     ]
    }
   ],
   "source": [
    "%matplotlib inline\n",
    "!pip install tensorflow\n",
    "!wget -cq https://ti.arc.nasa.gov/c/5 -O naza.zip\n",
    "!unzip -qqo naza.zip -d battery_data"
   ]
  },
  {
   "cell_type": "markdown",
   "id": "c5df5d06",
   "metadata": {
    "papermill": {
     "duration": 0.026298,
     "end_time": "2021-07-22T04:46:17.570769",
     "exception": false,
     "start_time": "2021-07-22T04:46:17.544471",
     "status": "completed"
    },
    "tags": []
   },
   "source": [
    "# Library import\n",
    "In this part, all the necessary libraries for the treatment of the dataset are important."
   ]
  },
  {
   "cell_type": "code",
   "execution_count": 7,
   "id": "17122aa5",
   "metadata": {
    "execution": {
     "iopub.execute_input": "2021-07-22T04:46:17.630168Z",
     "iopub.status.busy": "2021-07-22T04:46:17.629472Z",
     "iopub.status.idle": "2021-07-22T04:46:18.992408Z",
     "shell.execute_reply": "2021-07-22T04:46:18.991834Z",
     "shell.execute_reply.started": "2021-07-21T14:56:03.29303Z"
    },
    "papermill": {
     "duration": 1.395162,
     "end_time": "2021-07-22T04:46:18.992590",
     "exception": false,
     "start_time": "2021-07-22T04:46:17.597428",
     "status": "completed"
    },
    "tags": []
   },
   "outputs": [],
   "source": [
    "import datetime\n",
    "import numpy as np\n",
    "import pandas as pd\n",
    "from scipy.io import loadmat\n",
    "from sklearn.preprocessing import MinMaxScaler\n",
    "from sklearn.metrics import mean_squared_error\n",
    "from sklearn import metrics\n",
    "import matplotlib.pyplot as plt\n",
    "import seaborn as sns"
   ]
  },
  {
   "cell_type": "markdown",
   "id": "06f7e9b7",
   "metadata": {
    "papermill": {
     "duration": 0.026538,
     "end_time": "2021-07-22T04:46:19.048668",
     "exception": false,
     "start_time": "2021-07-22T04:46:19.022130",
     "status": "completed"
    },
    "tags": []
   },
   "source": [
    "# Loading the dataset into memory\n",
    "According to the README of the dataset, the data is stored in several \".mat\" files, each file corresponds to a specific battery and the data structure of each file is as follows:"
   ]
  },
  {
   "cell_type": "markdown",
   "id": "930b556c",
   "metadata": {
    "papermill": {
     "duration": 0.026498,
     "end_time": "2021-07-22T04:46:19.102121",
     "exception": false,
     "start_time": "2021-07-22T04:46:19.075623",
     "status": "completed"
    },
    "tags": []
   },
   "source": [
    "```\n",
    "Data Structure:\n",
    "cycle:\ttop level structure array containing the charge, discharge and impedance operations\n",
    "\ttype: \toperation  type, can be charge, discharge or impedance\n",
    "\tambient_temperature:\tambient temperature (degree C)\n",
    "\ttime: \tthe date and time of the start of the cycle, in MATLAB  date vector format\n",
    "\tdata:\tdata structure containing the measurements\n",
    "\t   for charge the fields are:\n",
    "\t\tVoltage_measured: \tBattery terminal voltage (Volts)\n",
    "\t\tCurrent_measured:\tBattery output current (Amps)\n",
    "\t\tTemperature_measured: \tBattery temperature (degree C)\n",
    "\t\tCurrent_charge:\t\tCurrent measured at charger (Amps)\n",
    "\t\tVoltage_charge:\t\tVoltage measured at charger (Volts)\n",
    "\t\tTime:\t\t\tTime vector for the cycle (secs)\n",
    "\t   for discharge the fields are:\n",
    "\t\tVoltage_measured: \tBattery terminal voltage (Volts)\n",
    "\t\tCurrent_measured:\tBattery output current (Amps)\n",
    "\t\tTemperature_measured: \tBattery temperature (degree C)\n",
    "\t\tCurrent_charge:\t\tCurrent measured at load (Amps)\n",
    "\t\tVoltage_charge:\t\tVoltage measured at load (Volts)\n",
    "\t\tTime:\t\t\tTime vector for the cycle (secs)\n",
    "\t\tCapacity:\t\tBattery capacity (Ahr) for discharge till 2.7V \n",
    "\t   for impedance the fields are:\n",
    "\t\tSense_current:\t\tCurrent in sense branch (Amps)\n",
    "\t\tBattery_current:\tCurrent in battery branch (Amps)\n",
    "\t\tCurrent_ratio:\t\tRatio of the above currents \n",
    "\t\tBattery_impedance:\tBattery impedance (Ohms) computed from raw data\n",
    "\t\tRectified_impedance:\tCalibrated and smoothed battery impedance (Ohms) \n",
    "\t\tRe:\t\t\tEstimated electrolyte resistance (Ohms)\n",
    "\t\tRct:\t\t\tEstimated charge transfer resistance (Ohms)\n",
    "\n",
    "```"
   ]
  },
  {
   "cell_type": "markdown",
   "id": "ab11a511",
   "metadata": {
    "papermill": {
     "duration": 0.026598,
     "end_time": "2021-07-22T04:46:19.156351",
     "exception": false,
     "start_time": "2021-07-22T04:46:19.129753",
     "status": "completed"
    },
    "tags": []
   },
   "source": [
    "For the Deep Learning model proposed in [1] it is only necessary to collect the data related to the discharge of the battery, for this a function is created in Python that is in charge of reading this data from the \".mat\" file and storing it in memory in two pandas DataFrame for later access. After loading the dataset, a description of the data is made using panda functions to verify if the data loading was correct."
   ]
  },
  {
   "cell_type": "code",
   "execution_count": 8,
   "id": "60a21a36",
   "metadata": {
    "execution": {
     "iopub.execute_input": "2021-07-22T04:46:19.230224Z",
     "iopub.status.busy": "2021-07-22T04:46:19.226477Z",
     "iopub.status.idle": "2021-07-22T04:46:20.537839Z",
     "shell.execute_reply": "2021-07-22T04:46:20.537155Z",
     "shell.execute_reply.started": "2021-07-21T14:56:04.585329Z"
    },
    "papermill": {
     "duration": 1.35471,
     "end_time": "2021-07-22T04:46:20.537986",
     "exception": false,
     "start_time": "2021-07-22T04:46:19.183276",
     "status": "completed"
    },
    "tags": []
   },
   "outputs": [
    {
     "ename": "FileNotFoundError",
     "evalue": "[Errno 2] No such file or directory: 'battery_data/B0005.mat'",
     "output_type": "error",
     "traceback": [
      "\u001b[1;31m---------------------------------------------------------------------------\u001b[0m",
      "\u001b[1;31mFileNotFoundError\u001b[0m                         Traceback (most recent call last)",
      "File \u001b[1;32m~\\anaconda\\Lib\\site-packages\\scipy\\io\\matlab\\_mio.py:39\u001b[0m, in \u001b[0;36m_open_file\u001b[1;34m(file_like, appendmat, mode)\u001b[0m\n\u001b[0;32m     38\u001b[0m \u001b[38;5;28;01mtry\u001b[39;00m:\n\u001b[1;32m---> 39\u001b[0m     \u001b[38;5;28;01mreturn\u001b[39;00m \u001b[38;5;28mopen\u001b[39m(file_like, mode), \u001b[38;5;28;01mTrue\u001b[39;00m\n\u001b[0;32m     40\u001b[0m \u001b[38;5;28;01mexcept\u001b[39;00m \u001b[38;5;167;01mOSError\u001b[39;00m \u001b[38;5;28;01mas\u001b[39;00m e:\n\u001b[0;32m     41\u001b[0m     \u001b[38;5;66;03m# Probably \"not found\"\u001b[39;00m\n",
      "\u001b[1;31mFileNotFoundError\u001b[0m: [Errno 2] No such file or directory: 'battery_data/B0005.mat'",
      "\nDuring handling of the above exception, another exception occurred:\n",
      "\u001b[1;31mFileNotFoundError\u001b[0m                         Traceback (most recent call last)",
      "Cell \u001b[1;32mIn[8], line 41\u001b[0m\n\u001b[0;32m     32\u001b[0m   \u001b[38;5;28mprint\u001b[39m(dataset[\u001b[38;5;241m0\u001b[39m])\n\u001b[0;32m     33\u001b[0m   \u001b[38;5;28;01mreturn\u001b[39;00m [pd\u001b[38;5;241m.\u001b[39mDataFrame(data\u001b[38;5;241m=\u001b[39mdataset,\n\u001b[0;32m     34\u001b[0m                        columns\u001b[38;5;241m=\u001b[39m[\u001b[38;5;124m'\u001b[39m\u001b[38;5;124mcycle\u001b[39m\u001b[38;5;124m'\u001b[39m, \u001b[38;5;124m'\u001b[39m\u001b[38;5;124mambient_temperature\u001b[39m\u001b[38;5;124m'\u001b[39m, \u001b[38;5;124m'\u001b[39m\u001b[38;5;124mdatetime\u001b[39m\u001b[38;5;124m'\u001b[39m,\n\u001b[0;32m     35\u001b[0m                                 \u001b[38;5;124m'\u001b[39m\u001b[38;5;124mcapacity\u001b[39m\u001b[38;5;124m'\u001b[39m, \u001b[38;5;124m'\u001b[39m\u001b[38;5;124mvoltage_measured\u001b[39m\u001b[38;5;124m'\u001b[39m,\n\u001b[1;32m   (...)\u001b[0m\n\u001b[0;32m     39\u001b[0m                        columns\u001b[38;5;241m=\u001b[39m[\u001b[38;5;124m'\u001b[39m\u001b[38;5;124mcycle\u001b[39m\u001b[38;5;124m'\u001b[39m, \u001b[38;5;124m'\u001b[39m\u001b[38;5;124mambient_temperature\u001b[39m\u001b[38;5;124m'\u001b[39m, \u001b[38;5;124m'\u001b[39m\u001b[38;5;124mdatetime\u001b[39m\u001b[38;5;124m'\u001b[39m,\n\u001b[0;32m     40\u001b[0m                                 \u001b[38;5;124m'\u001b[39m\u001b[38;5;124mcapacity\u001b[39m\u001b[38;5;124m'\u001b[39m])]\n\u001b[1;32m---> 41\u001b[0m dataset, capacity \u001b[38;5;241m=\u001b[39m load_data(\u001b[38;5;124m'\u001b[39m\u001b[38;5;124mB0005\u001b[39m\u001b[38;5;124m'\u001b[39m)\n\u001b[0;32m     42\u001b[0m pd\u001b[38;5;241m.\u001b[39mset_option(\u001b[38;5;124m'\u001b[39m\u001b[38;5;124mdisplay.max_columns\u001b[39m\u001b[38;5;124m'\u001b[39m, \u001b[38;5;241m10\u001b[39m)\n\u001b[0;32m     43\u001b[0m \u001b[38;5;28mprint\u001b[39m(dataset\u001b[38;5;241m.\u001b[39mhead())\n",
      "Cell \u001b[1;32mIn[8], line 2\u001b[0m, in \u001b[0;36mload_data\u001b[1;34m(battery)\u001b[0m\n\u001b[0;32m      1\u001b[0m \u001b[38;5;28;01mdef\u001b[39;00m \u001b[38;5;21mload_data\u001b[39m(battery):\n\u001b[1;32m----> 2\u001b[0m   mat \u001b[38;5;241m=\u001b[39m loadmat(\u001b[38;5;124m'\u001b[39m\u001b[38;5;124mbattery_data/\u001b[39m\u001b[38;5;124m'\u001b[39m \u001b[38;5;241m+\u001b[39m battery \u001b[38;5;241m+\u001b[39m \u001b[38;5;124m'\u001b[39m\u001b[38;5;124m.mat\u001b[39m\u001b[38;5;124m'\u001b[39m)\n\u001b[0;32m      3\u001b[0m   \u001b[38;5;28mprint\u001b[39m(\u001b[38;5;124m'\u001b[39m\u001b[38;5;124mTotal data in dataset: \u001b[39m\u001b[38;5;124m'\u001b[39m, \u001b[38;5;28mlen\u001b[39m(mat[battery][\u001b[38;5;241m0\u001b[39m, \u001b[38;5;241m0\u001b[39m][\u001b[38;5;124m'\u001b[39m\u001b[38;5;124mcycle\u001b[39m\u001b[38;5;124m'\u001b[39m][\u001b[38;5;241m0\u001b[39m]))\n\u001b[0;32m      4\u001b[0m   counter \u001b[38;5;241m=\u001b[39m \u001b[38;5;241m0\u001b[39m\n",
      "File \u001b[1;32m~\\anaconda\\Lib\\site-packages\\scipy\\io\\matlab\\_mio.py:225\u001b[0m, in \u001b[0;36mloadmat\u001b[1;34m(file_name, mdict, appendmat, **kwargs)\u001b[0m\n\u001b[0;32m     88\u001b[0m \u001b[38;5;250m\u001b[39m\u001b[38;5;124;03m\"\"\"\u001b[39;00m\n\u001b[0;32m     89\u001b[0m \u001b[38;5;124;03mLoad MATLAB file.\u001b[39;00m\n\u001b[0;32m     90\u001b[0m \n\u001b[1;32m   (...)\u001b[0m\n\u001b[0;32m    222\u001b[0m \u001b[38;5;124;03m    3.14159265+3.14159265j])\u001b[39;00m\n\u001b[0;32m    223\u001b[0m \u001b[38;5;124;03m\"\"\"\u001b[39;00m\n\u001b[0;32m    224\u001b[0m variable_names \u001b[38;5;241m=\u001b[39m kwargs\u001b[38;5;241m.\u001b[39mpop(\u001b[38;5;124m'\u001b[39m\u001b[38;5;124mvariable_names\u001b[39m\u001b[38;5;124m'\u001b[39m, \u001b[38;5;28;01mNone\u001b[39;00m)\n\u001b[1;32m--> 225\u001b[0m \u001b[38;5;28;01mwith\u001b[39;00m _open_file_context(file_name, appendmat) \u001b[38;5;28;01mas\u001b[39;00m f:\n\u001b[0;32m    226\u001b[0m     MR, _ \u001b[38;5;241m=\u001b[39m mat_reader_factory(f, \u001b[38;5;241m*\u001b[39m\u001b[38;5;241m*\u001b[39mkwargs)\n\u001b[0;32m    227\u001b[0m     matfile_dict \u001b[38;5;241m=\u001b[39m MR\u001b[38;5;241m.\u001b[39mget_variables(variable_names)\n",
      "File \u001b[1;32m~\\anaconda\\Lib\\contextlib.py:137\u001b[0m, in \u001b[0;36m_GeneratorContextManager.__enter__\u001b[1;34m(self)\u001b[0m\n\u001b[0;32m    135\u001b[0m \u001b[38;5;28;01mdel\u001b[39;00m \u001b[38;5;28mself\u001b[39m\u001b[38;5;241m.\u001b[39margs, \u001b[38;5;28mself\u001b[39m\u001b[38;5;241m.\u001b[39mkwds, \u001b[38;5;28mself\u001b[39m\u001b[38;5;241m.\u001b[39mfunc\n\u001b[0;32m    136\u001b[0m \u001b[38;5;28;01mtry\u001b[39;00m:\n\u001b[1;32m--> 137\u001b[0m     \u001b[38;5;28;01mreturn\u001b[39;00m \u001b[38;5;28mnext\u001b[39m(\u001b[38;5;28mself\u001b[39m\u001b[38;5;241m.\u001b[39mgen)\n\u001b[0;32m    138\u001b[0m \u001b[38;5;28;01mexcept\u001b[39;00m \u001b[38;5;167;01mStopIteration\u001b[39;00m:\n\u001b[0;32m    139\u001b[0m     \u001b[38;5;28;01mraise\u001b[39;00m \u001b[38;5;167;01mRuntimeError\u001b[39;00m(\u001b[38;5;124m\"\u001b[39m\u001b[38;5;124mgenerator didn\u001b[39m\u001b[38;5;124m'\u001b[39m\u001b[38;5;124mt yield\u001b[39m\u001b[38;5;124m\"\u001b[39m) \u001b[38;5;28;01mfrom\u001b[39;00m \u001b[38;5;28;01mNone\u001b[39;00m\n",
      "File \u001b[1;32m~\\anaconda\\Lib\\site-packages\\scipy\\io\\matlab\\_mio.py:17\u001b[0m, in \u001b[0;36m_open_file_context\u001b[1;34m(file_like, appendmat, mode)\u001b[0m\n\u001b[0;32m     15\u001b[0m \u001b[38;5;129m@contextmanager\u001b[39m\n\u001b[0;32m     16\u001b[0m \u001b[38;5;28;01mdef\u001b[39;00m \u001b[38;5;21m_open_file_context\u001b[39m(file_like, appendmat, mode\u001b[38;5;241m=\u001b[39m\u001b[38;5;124m'\u001b[39m\u001b[38;5;124mrb\u001b[39m\u001b[38;5;124m'\u001b[39m):\n\u001b[1;32m---> 17\u001b[0m     f, opened \u001b[38;5;241m=\u001b[39m _open_file(file_like, appendmat, mode)\n\u001b[0;32m     18\u001b[0m     \u001b[38;5;28;01mtry\u001b[39;00m:\n\u001b[0;32m     19\u001b[0m         \u001b[38;5;28;01myield\u001b[39;00m f\n",
      "File \u001b[1;32m~\\anaconda\\Lib\\site-packages\\scipy\\io\\matlab\\_mio.py:45\u001b[0m, in \u001b[0;36m_open_file\u001b[1;34m(file_like, appendmat, mode)\u001b[0m\n\u001b[0;32m     43\u001b[0m     \u001b[38;5;28;01mif\u001b[39;00m appendmat \u001b[38;5;129;01mand\u001b[39;00m \u001b[38;5;129;01mnot\u001b[39;00m file_like\u001b[38;5;241m.\u001b[39mendswith(\u001b[38;5;124m'\u001b[39m\u001b[38;5;124m.mat\u001b[39m\u001b[38;5;124m'\u001b[39m):\n\u001b[0;32m     44\u001b[0m         file_like \u001b[38;5;241m+\u001b[39m\u001b[38;5;241m=\u001b[39m \u001b[38;5;124m'\u001b[39m\u001b[38;5;124m.mat\u001b[39m\u001b[38;5;124m'\u001b[39m\n\u001b[1;32m---> 45\u001b[0m     \u001b[38;5;28;01mreturn\u001b[39;00m \u001b[38;5;28mopen\u001b[39m(file_like, mode), \u001b[38;5;28;01mTrue\u001b[39;00m\n\u001b[0;32m     46\u001b[0m \u001b[38;5;28;01melse\u001b[39;00m:\n\u001b[0;32m     47\u001b[0m     \u001b[38;5;28;01mraise\u001b[39;00m \u001b[38;5;167;01mOSError\u001b[39;00m(\n\u001b[0;32m     48\u001b[0m         \u001b[38;5;124m'\u001b[39m\u001b[38;5;124mReader needs file name or open file-like object\u001b[39m\u001b[38;5;124m'\u001b[39m\n\u001b[0;32m     49\u001b[0m     ) \u001b[38;5;28;01mfrom\u001b[39;00m \u001b[38;5;21;01me\u001b[39;00m\n",
      "\u001b[1;31mFileNotFoundError\u001b[0m: [Errno 2] No such file or directory: 'battery_data/B0005.mat'"
     ]
    }
   ],
   "source": [
    "def load_data(battery):\n",
    "  mat = loadmat('battery_data/' + battery + '.mat')\n",
    "  print('Total data in dataset: ', len(mat[battery][0, 0]['cycle'][0]))\n",
    "  counter = 0\n",
    "  dataset = []\n",
    "  capacity_data = []\n",
    "  \n",
    "  for i in range(len(mat[battery][0, 0]['cycle'][0])):\n",
    "    row = mat[battery][0, 0]['cycle'][0, i]\n",
    "    if row['type'][0] == 'discharge':\n",
    "      ambient_temperature = row['ambient_temperature'][0][0]\n",
    "      date_time = datetime.datetime(int(row['time'][0][0]),\n",
    "                               int(row['time'][0][1]),\n",
    "                               int(row['time'][0][2]),\n",
    "                               int(row['time'][0][3]),\n",
    "                               int(row['time'][0][4])) + datetime.timedelta(seconds=int(row['time'][0][5]))\n",
    "      data = row['data']\n",
    "      capacity = data[0][0]['Capacity'][0][0]\n",
    "      for j in range(len(data[0][0]['Voltage_measured'][0])):\n",
    "        voltage_measured = data[0][0]['Voltage_measured'][0][j]\n",
    "        current_measured = data[0][0]['Current_measured'][0][j]\n",
    "        temperature_measured = data[0][0]['Temperature_measured'][0][j]\n",
    "        current_load = data[0][0]['Current_load'][0][j]\n",
    "        voltage_load = data[0][0]['Voltage_load'][0][j]\n",
    "        time = data[0][0]['Time'][0][j]\n",
    "        dataset.append([counter + 1, ambient_temperature, date_time, capacity,\n",
    "                        voltage_measured, current_measured,\n",
    "                        temperature_measured, current_load,\n",
    "                        voltage_load, time])\n",
    "      capacity_data.append([counter + 1, ambient_temperature, date_time, capacity])\n",
    "      counter = counter + 1\n",
    "  print(dataset[0])\n",
    "  return [pd.DataFrame(data=dataset,\n",
    "                       columns=['cycle', 'ambient_temperature', 'datetime',\n",
    "                                'capacity', 'voltage_measured',\n",
    "                                'current_measured', 'temperature_measured',\n",
    "                                'current_load', 'voltage_load', 'time']),\n",
    "          pd.DataFrame(data=capacity_data,\n",
    "                       columns=['cycle', 'ambient_temperature', 'datetime',\n",
    "                                'capacity'])]\n",
    "dataset, capacity = load_data('B0005')\n",
    "pd.set_option('display.max_columns', 10)\n",
    "print(dataset.head())\n",
    "dataset.describe()"
   ]
  },
  {
   "cell_type": "markdown",
   "id": "0daf1c1a",
   "metadata": {
    "papermill": {
     "duration": 0.027799,
     "end_time": "2021-07-22T04:46:20.594082",
     "exception": false,
     "start_time": "2021-07-22T04:46:20.566283",
     "status": "completed"
    },
    "tags": []
   },
   "source": [
    "The following graph shows the aging process of the battery as the charge cycles progress. The horizontal line represents the threshold related to what can be considered the end of the battery's life cycle."
   ]
  },
  {
   "cell_type": "code",
   "execution_count": null,
   "id": "40ebb0d9",
   "metadata": {
    "execution": {
     "iopub.execute_input": "2021-07-22T04:46:20.658266Z",
     "iopub.status.busy": "2021-07-22T04:46:20.657439Z",
     "iopub.status.idle": "2021-07-22T04:46:20.967711Z",
     "shell.execute_reply": "2021-07-22T04:46:20.967106Z",
     "shell.execute_reply.started": "2021-07-21T14:56:05.914857Z"
    },
    "papermill": {
     "duration": 0.345743,
     "end_time": "2021-07-22T04:46:20.967861",
     "exception": false,
     "start_time": "2021-07-22T04:46:20.622118",
     "status": "completed"
    },
    "tags": []
   },
   "outputs": [],
   "source": [
    "plot_df = capacity.loc[(capacity['cycle']>=1),['cycle','capacity']]\n",
    "sns.set_style(\"darkgrid\")\n",
    "plt.figure(figsize=(12, 8))\n",
    "plt.plot(plot_df['cycle'], plot_df['capacity'])\n",
    "#Draw threshold\n",
    "plt.plot([0.,len(capacity)], [1.4, 1.4])\n",
    "plt.ylabel('Capacity')\n",
    "# make x-axis ticks legible\n",
    "adf = plt.gca().get_xaxis().get_major_formatter()\n",
    "plt.xlabel('cycle')\n",
    "plt.title('Discharge B0005')"
   ]
  },
  {
   "cell_type": "markdown",
   "id": "f2c91219",
   "metadata": {
    "papermill": {
     "duration": 0.029664,
     "end_time": "2021-07-22T04:46:21.027604",
     "exception": false,
     "start_time": "2021-07-22T04:46:20.997940",
     "status": "completed"
    },
    "tags": []
   },
   "source": [
    "It is also necessary to calculate the SoH of the battery, since this is the data that will be predicted using the * deep learning * model."
   ]
  },
  {
   "cell_type": "code",
   "execution_count": null,
   "id": "ad513dfc",
   "metadata": {
    "execution": {
     "iopub.execute_input": "2021-07-22T04:46:21.135730Z",
     "iopub.status.busy": "2021-07-22T04:46:21.129892Z",
     "iopub.status.idle": "2021-07-22T04:46:21.159849Z",
     "shell.execute_reply": "2021-07-22T04:46:21.159126Z",
     "shell.execute_reply.started": "2021-07-21T14:56:06.21875Z"
    },
    "papermill": {
     "duration": 0.101645,
     "end_time": "2021-07-22T04:46:21.160002",
     "exception": false,
     "start_time": "2021-07-22T04:46:21.058357",
     "status": "completed"
    },
    "tags": []
   },
   "outputs": [],
   "source": [
    "attrib=['cycle', 'datetime', 'capacity']\n",
    "dis_ele = capacity[attrib]\n",
    "C = dis_ele['capacity'][0]\n",
    "for i in range(len(dis_ele)):\n",
    "    dis_ele['SoH']=(dis_ele['capacity'])/C\n",
    "print(dis_ele.head(5))"
   ]
  },
  {
   "cell_type": "markdown",
   "id": "e2437855",
   "metadata": {
    "papermill": {
     "duration": 0.029976,
     "end_time": "2021-07-22T04:46:21.220480",
     "exception": false,
     "start_time": "2021-07-22T04:46:21.190504",
     "status": "completed"
    },
    "tags": []
   },
   "source": [
    "Similarly to what has been done previously, a graph of the SoH is made for each cycle, the horizontal line represents the threshold of 70% in which the battery already fulfills its life cycle and it is advisable to make the change."
   ]
  },
  {
   "cell_type": "code",
   "execution_count": null,
   "id": "4d1b9991",
   "metadata": {
    "execution": {
     "iopub.execute_input": "2021-07-22T04:46:21.305481Z",
     "iopub.status.busy": "2021-07-22T04:46:21.288903Z",
     "iopub.status.idle": "2021-07-22T04:46:21.535452Z",
     "shell.execute_reply": "2021-07-22T04:46:21.534745Z",
     "shell.execute_reply.started": "2021-07-21T14:56:06.288338Z"
    },
    "papermill": {
     "duration": 0.284715,
     "end_time": "2021-07-22T04:46:21.535620",
     "exception": false,
     "start_time": "2021-07-22T04:46:21.250905",
     "status": "completed"
    },
    "tags": []
   },
   "outputs": [],
   "source": [
    "plot_df = dis_ele.loc[(dis_ele['cycle']>=1),['cycle','SoH']]\n",
    "sns.set_style(\"white\")\n",
    "plt.figure(figsize=(8, 5))\n",
    "plt.plot(plot_df['cycle'], plot_df['SoH'])\n",
    "#Draw threshold\n",
    "plt.plot([0.,len(capacity)], [0.70, 0.70])\n",
    "plt.ylabel('SOH')\n",
    "# make x-axis ticks legible\n",
    "adf = plt.gca().get_xaxis().get_major_formatter()\n",
    "plt.xlabel('cycle')\n",
    "plt.title('Discharge B0005')"
   ]
  },
  {
   "cell_type": "markdown",
   "id": "f6600911",
   "metadata": {
    "papermill": {
     "duration": 0.031359,
     "end_time": "2021-07-22T04:46:21.599694",
     "exception": false,
     "start_time": "2021-07-22T04:46:21.568335",
     "status": "completed"
    },
    "tags": []
   },
   "source": [
    "# Training phase for calculating SoH\n",
    "The dataset is prepared in such a way that it can be used by Tensorflow in the training phase, for this, two structures are created corresponding to the input and output expected to be obtained. For the input data, the relevant characteristics of the dataset are filtered, which are:\n",
    "\n",
    "* Battery capacity\n",
    "* Voltage\n",
    "* Current\n",
    "* Temperature\n",
    "* Charging voltage\n",
    "* Charging current\n",
    "* Instant of time (from the start of the download)\n",
    "\n",
    "For the output data, the SoH of the battery is calculated and in both input and output cases, the values are normalized to a range of values between [0-1]."
   ]
  },
  {
   "cell_type": "code",
   "execution_count": null,
   "id": "f20bd3ad",
   "metadata": {
    "execution": {
     "iopub.execute_input": "2021-07-22T04:46:21.692739Z",
     "iopub.status.busy": "2021-07-22T04:46:21.682242Z",
     "iopub.status.idle": "2021-07-22T04:46:22.268522Z",
     "shell.execute_reply": "2021-07-22T04:46:22.267883Z",
     "shell.execute_reply.started": "2021-07-21T14:56:06.552479Z"
    },
    "papermill": {
     "duration": 0.637334,
     "end_time": "2021-07-22T04:46:22.268685",
     "exception": false,
     "start_time": "2021-07-22T04:46:21.631351",
     "status": "completed"
    },
    "tags": []
   },
   "outputs": [],
   "source": [
    "C = dataset['capacity'][0]\n",
    "soh = []\n",
    "for i in range(len(dataset)):\n",
    "  soh.append([dataset['capacity'][i] / C])\n",
    "soh = pd.DataFrame(data=soh, columns=['SoH'])\n",
    "\n",
    "attribs=['capacity', 'voltage_measured', 'current_measured',\n",
    "         'temperature_measured', 'current_load', 'voltage_load', 'time']\n",
    "train_dataset = dataset[attribs]\n",
    "sc = MinMaxScaler(feature_range=(0,1))\n",
    "train_dataset = sc.fit_transform(train_dataset)\n",
    "print(train_dataset.shape)\n",
    "print(soh.shape)"
   ]
  },
  {
   "cell_type": "markdown",
   "id": "8f32e695",
   "metadata": {
    "papermill": {
     "duration": 0.031692,
     "end_time": "2021-07-22T04:46:22.332218",
     "exception": false,
     "start_time": "2021-07-22T04:46:22.300526",
     "status": "completed"
    },
    "tags": []
   },
   "source": [
    "Preparation of the model, 3 dense layers are used, and the parameters are used as they are in the paper: 3 dense layers and one dropout, and one of the ADAM type is used as optimizer"
   ]
  },
  {
   "cell_type": "code",
   "execution_count": null,
   "id": "bd824395",
   "metadata": {
    "execution": {
     "iopub.execute_input": "2021-07-22T04:46:22.401756Z",
     "iopub.status.busy": "2021-07-22T04:46:22.400854Z",
     "iopub.status.idle": "2021-07-22T04:46:28.276559Z",
     "shell.execute_reply": "2021-07-22T04:46:28.275812Z",
     "shell.execute_reply.started": "2021-07-21T14:56:07.159332Z"
    },
    "papermill": {
     "duration": 5.912746,
     "end_time": "2021-07-22T04:46:28.276711",
     "exception": false,
     "start_time": "2021-07-22T04:46:22.363965",
     "status": "completed"
    },
    "tags": []
   },
   "outputs": [],
   "source": [
    "import tensorflow as tf\n",
    "from tensorflow.keras.models import Sequential\n",
    "from tensorflow.keras.layers import Dense\n",
    "from tensorflow.keras.layers import Dropout\n",
    "from tensorflow.keras.layers import Flatten\n",
    "from tensorflow.keras.layers import LSTM\n",
    "from tensorflow.keras.optimizers import Adam"
   ]
  },
  {
   "cell_type": "code",
   "execution_count": null,
   "id": "4c47442d",
   "metadata": {
    "execution": {
     "iopub.execute_input": "2021-07-22T04:46:28.348113Z",
     "iopub.status.busy": "2021-07-22T04:46:28.347374Z",
     "iopub.status.idle": "2021-07-22T04:46:28.477923Z",
     "shell.execute_reply": "2021-07-22T04:46:28.478471Z",
     "shell.execute_reply.started": "2021-07-21T14:56:13.084599Z"
    },
    "papermill": {
     "duration": 0.170098,
     "end_time": "2021-07-22T04:46:28.478675",
     "exception": false,
     "start_time": "2021-07-22T04:46:28.308577",
     "status": "completed"
    },
    "tags": []
   },
   "outputs": [],
   "source": [
    "model = Sequential()\n",
    "model.add(Dense(8, activation='relu', input_dim=train_dataset.shape[1]))\n",
    "model.add(Dense(8, activation='relu'))\n",
    "model.add(Dense(8, activation='relu'))\n",
    "model.add(Dropout(rate=0.25))\n",
    "model.add(Dense(1))\n",
    "model.summary()\n",
    "model.compile(optimizer=Adam(beta_1=0.9, beta_2=0.999, epsilon=1e-08), loss='mean_absolute_error')"
   ]
  },
  {
   "cell_type": "markdown",
   "id": "38385960",
   "metadata": {
    "papermill": {
     "duration": 0.032932,
     "end_time": "2021-07-22T04:46:28.545856",
     "exception": false,
     "start_time": "2021-07-22T04:46:28.512924",
     "status": "completed"
    },
    "tags": []
   },
   "source": [
    "## The model is trained, 50 epochs are used for training"
   ]
  },
  {
   "cell_type": "code",
   "execution_count": null,
   "id": "442a36cd",
   "metadata": {
    "_kg_hide-input": true,
    "_kg_hide-output": true,
    "execution": {
     "iopub.execute_input": "2021-07-22T04:46:28.613768Z",
     "iopub.status.busy": "2021-07-22T04:46:28.613147Z",
     "iopub.status.idle": "2021-07-22T04:48:12.679705Z",
     "shell.execute_reply": "2021-07-22T04:48:12.679066Z",
     "shell.execute_reply.started": "2021-07-21T14:56:13.211493Z"
    },
    "papermill": {
     "duration": 104.101427,
     "end_time": "2021-07-22T04:48:12.679866",
     "exception": false,
     "start_time": "2021-07-22T04:46:28.578439",
     "status": "completed"
    },
    "tags": []
   },
   "outputs": [],
   "source": [
    "model.fit(x=train_dataset, y=soh.to_numpy(), batch_size=25, epochs=50)"
   ]
  },
  {
   "cell_type": "markdown",
   "id": "c84e8196",
   "metadata": {
    "papermill": {
     "duration": 0.675335,
     "end_time": "2021-07-22T04:48:14.073174",
     "exception": false,
     "start_time": "2021-07-22T04:48:13.397839",
     "status": "completed"
    },
    "tags": []
   },
   "source": [
    "# Testing to test the SoH prediction model\n",
    "To test the correctness of the model, the information of the same battery is loaded (B0006)"
   ]
  },
  {
   "cell_type": "code",
   "execution_count": null,
   "id": "0b111770",
   "metadata": {
    "execution": {
     "iopub.execute_input": "2021-07-22T04:48:15.421689Z",
     "iopub.status.busy": "2021-07-22T04:48:15.420667Z",
     "iopub.status.idle": "2021-07-22T04:48:16.642636Z",
     "shell.execute_reply": "2021-07-22T04:48:16.642067Z",
     "shell.execute_reply.started": "2021-07-21T14:57:54.790764Z"
    },
    "papermill": {
     "duration": 1.901195,
     "end_time": "2021-07-22T04:48:16.642783",
     "exception": false,
     "start_time": "2021-07-22T04:48:14.741588",
     "status": "completed"
    },
    "tags": []
   },
   "outputs": [],
   "source": [
    "dataset_val, capacity_val = load_data('B0006')\n",
    "attrib=['cycle', 'datetime', 'capacity']\n",
    "dis_ele = capacity_val[attrib]\n",
    "C = dis_ele['capacity'][0]\n",
    "for i in range(len(dis_ele)):\n",
    "    dis_ele['SoH']=(dis_ele['capacity']) / C\n",
    "print(dataset_val.head(5))\n",
    "print(dis_ele.head(5))"
   ]
  },
  {
   "cell_type": "markdown",
   "id": "b277f8d0",
   "metadata": {
    "papermill": {
     "duration": 0.671026,
     "end_time": "2021-07-22T04:48:18.037855",
     "exception": false,
     "start_time": "2021-07-22T04:48:17.366829",
     "status": "completed"
    },
    "tags": []
   },
   "source": [
    "A table is created containing the real SoH and the SoH predicted by the network and the root of the mean square error is calculated."
   ]
  },
  {
   "cell_type": "code",
   "execution_count": null,
   "id": "6a035849",
   "metadata": {
    "execution": {
     "iopub.execute_input": "2021-07-22T04:48:19.393512Z",
     "iopub.status.busy": "2021-07-22T04:48:19.392417Z",
     "iopub.status.idle": "2021-07-22T04:48:20.818076Z",
     "shell.execute_reply": "2021-07-22T04:48:20.818646Z",
     "shell.execute_reply.started": "2021-07-21T14:57:55.970966Z"
    },
    "papermill": {
     "duration": 2.108201,
     "end_time": "2021-07-22T04:48:20.818857",
     "exception": false,
     "start_time": "2021-07-22T04:48:18.710656",
     "status": "completed"
    },
    "tags": []
   },
   "outputs": [],
   "source": [
    "attrib=['capacity', 'voltage_measured', 'current_measured',\n",
    "        'temperature_measured', 'current_load', 'voltage_load', 'time']\n",
    "soh_pred = model.predict(sc.fit_transform(dataset_val[attrib]))\n",
    "print(soh_pred.shape)\n",
    "\n",
    "C = dataset_val['capacity'][0]\n",
    "soh = []\n",
    "for i in range(len(dataset_val)):\n",
    "  soh.append(dataset_val['capacity'][i] / C)\n",
    "new_soh = dataset_val.loc[(dataset_val['cycle'] >= 1), ['cycle']]\n",
    "new_soh['SoH'] =  soh\n",
    "new_soh['NewSoH'] = soh_pred\n",
    "new_soh = new_soh.groupby(['cycle']).mean().reset_index()\n",
    "print(new_soh.head(10))\n",
    "rms = np.sqrt(mean_squared_error(new_soh['SoH'], new_soh['NewSoH']))\n",
    "print('Root Mean Square Error: ', rms)"
   ]
  },
  {
   "cell_type": "markdown",
   "id": "2300dec7",
   "metadata": {
    "papermill": {
     "duration": 0.671506,
     "end_time": "2021-07-22T04:48:22.163751",
     "exception": false,
     "start_time": "2021-07-22T04:48:21.492245",
     "status": "completed"
    },
    "tags": []
   },
   "source": [
    "Finally both SoH are plotted to observe their differences"
   ]
  },
  {
   "cell_type": "code",
   "execution_count": null,
   "id": "fa1f563f",
   "metadata": {
    "execution": {
     "iopub.execute_input": "2021-07-22T04:48:23.529438Z",
     "iopub.status.busy": "2021-07-22T04:48:23.528699Z",
     "iopub.status.idle": "2021-07-22T04:48:23.813697Z",
     "shell.execute_reply": "2021-07-22T04:48:23.814210Z",
     "shell.execute_reply.started": "2021-07-21T14:57:57.379784Z"
    },
    "papermill": {
     "duration": 0.980385,
     "end_time": "2021-07-22T04:48:23.814387",
     "exception": false,
     "start_time": "2021-07-22T04:48:22.834002",
     "status": "completed"
    },
    "tags": []
   },
   "outputs": [],
   "source": [
    "plot_df = new_soh.loc[(new_soh['cycle']>=1),['cycle','SoH', 'NewSoH']]\n",
    "sns.set_style(\"white\")\n",
    "plt.figure(figsize=(16, 10))\n",
    "plt.plot(plot_df['cycle'], plot_df['SoH'], label='SoH')\n",
    "plt.plot(plot_df['cycle'], plot_df['NewSoH'], label='Predicted SoH')\n",
    "#Draw threshold\n",
    "#plt.plot([0.,len(capacity)], [0.70, 0.70], label='Threshold')\n",
    "plt.ylabel('SOH')\n",
    "# make x-axis ticks legible\n",
    "adf = plt.gca().get_xaxis().get_major_formatter()\n",
    "plt.xlabel('cycle')\n",
    "plt.legend()\n",
    "plt.title('Discharge B0006')"
   ]
  },
  {
   "cell_type": "markdown",
   "id": "f56032e3",
   "metadata": {
    "papermill": {
     "duration": 0.67514,
     "end_time": "2021-07-22T04:48:25.158704",
     "exception": false,
     "start_time": "2021-07-22T04:48:24.483564",
     "status": "completed"
    },
    "tags": []
   },
   "source": [
    "For the estimation of SoH, it can be seen that the data pattern is learned by the model correctly, as predicted by the theory, since the shape of the curves is almost identical. The SoH shown has the same behavior as expected in theory, which is corroborated with the root mean square error value of the graph in illustration 8, whose value of 9% is very similar to that found previously. This reaffirms the precision when making the prediction."
   ]
  },
  {
   "cell_type": "markdown",
   "id": "cc44cd89",
   "metadata": {
    "papermill": {
     "duration": 0.677676,
     "end_time": "2021-07-22T04:48:26.558756",
     "exception": false,
     "start_time": "2021-07-22T04:48:25.881080",
     "status": "completed"
    },
    "tags": []
   },
   "source": [
    "# RUL estimation\n",
    "In the same way that was done for the estimation of SoH, the training and testing dataset is prepared, in this particular case the battery capacity data is used using the first data of the first 50 cycles to predict the capacity in the following cycles in such a way as to be able to know when the threshold of the battery is reached and estimate the remaining cycles to reach the End of Life of the battery"
   ]
  },
  {
   "cell_type": "code",
   "execution_count": null,
   "id": "856b0b0c",
   "metadata": {
    "execution": {
     "iopub.execute_input": "2021-07-22T04:48:27.942312Z",
     "iopub.status.busy": "2021-07-22T04:48:27.941532Z",
     "iopub.status.idle": "2021-07-22T04:48:29.262524Z",
     "shell.execute_reply": "2021-07-22T04:48:29.261912Z",
     "shell.execute_reply.started": "2021-07-21T14:57:57.684156Z"
    },
    "papermill": {
     "duration": 2.0057,
     "end_time": "2021-07-22T04:48:29.262689",
     "exception": false,
     "start_time": "2021-07-22T04:48:27.256989",
     "status": "completed"
    },
    "tags": []
   },
   "outputs": [],
   "source": [
    "dataset_val, capacity_val = load_data('B0005')\n",
    "attrib=['cycle', 'datetime', 'capacity']\n",
    "dis_ele = capacity_val[attrib]\n",
    "rows=['cycle','capacity']\n",
    "dataset=dis_ele[rows]\n",
    "data_train=dataset[(dataset['cycle']<50)]\n",
    "data_set_train=data_train.iloc[:,1:2].values\n",
    "data_test=dataset[(dataset['cycle']>=50)]\n",
    "data_set_test=data_test.iloc[:,1:2].values\n",
    "\n",
    "sc=MinMaxScaler(feature_range=(0,1))\n",
    "data_set_train=sc.fit_transform(data_set_train)\n",
    "data_set_test=sc.transform(data_set_test)\n",
    "\n",
    "X_train=[]\n",
    "y_train=[]\n",
    "#take the last 10t to predict 10t+1\n",
    "for i in range(10,49):\n",
    "    X_train.append(data_set_train[i-10:i,0])\n",
    "    y_train.append(data_set_train[i,0])\n",
    "X_train,y_train=np.array(X_train),np.array(y_train)\n",
    " \n",
    "X_train=np.reshape(X_train,(X_train.shape[0],X_train.shape[1],1))"
   ]
  },
  {
   "cell_type": "markdown",
   "id": "e154d803",
   "metadata": {
    "papermill": {
     "duration": 0.681079,
     "end_time": "2021-07-22T04:48:30.621854",
     "exception": false,
     "start_time": "2021-07-22T04:48:29.940775",
     "status": "completed"
    },
    "tags": []
   },
   "source": [
    "In this section the model is trained, based on the proposal of [2] and making use of LSTM-type networks instead of standard neural networks."
   ]
  },
  {
   "cell_type": "code",
   "execution_count": null,
   "id": "8a144880",
   "metadata": {
    "execution": {
     "iopub.execute_input": "2021-07-22T04:48:31.982130Z",
     "iopub.status.busy": "2021-07-22T04:48:31.981387Z",
     "iopub.status.idle": "2021-07-22T04:48:33.064373Z",
     "shell.execute_reply": "2021-07-22T04:48:33.063796Z",
     "shell.execute_reply.started": "2021-07-21T14:57:58.998379Z"
    },
    "papermill": {
     "duration": 1.766531,
     "end_time": "2021-07-22T04:48:33.064517",
     "exception": false,
     "start_time": "2021-07-22T04:48:31.297986",
     "status": "completed"
    },
    "tags": []
   },
   "outputs": [],
   "source": [
    "regress = Sequential()\n",
    "regress.add(LSTM(units=200, return_sequences=True, input_shape=(X_train.shape[1],1)))\n",
    "regress.add(Dropout(0.3))\n",
    "regress.add(LSTM(units=200, return_sequences=True))\n",
    "regress.add(Dropout(0.3))\n",
    "regress.add(LSTM(units=200, return_sequences=True))\n",
    "regress.add(Dropout(0.3))\n",
    "regress.add(LSTM(units=200))\n",
    "regress.add(Dropout(0.3))\n",
    "regress.add(Dense(units=1))\n",
    "regress.compile(optimizer='adam',loss='mean_squared_error')\n",
    "regress.summary()"
   ]
  },
  {
   "cell_type": "code",
   "execution_count": null,
   "id": "091b7174",
   "metadata": {
    "execution": {
     "iopub.execute_input": "2021-07-22T04:48:34.430939Z",
     "iopub.status.busy": "2021-07-22T04:48:34.428027Z",
     "iopub.status.idle": "2021-07-22T04:49:07.528092Z",
     "shell.execute_reply": "2021-07-22T04:49:07.527435Z",
     "shell.execute_reply.started": "2021-07-21T14:58:00.03382Z"
    },
    "papermill": {
     "duration": 33.784392,
     "end_time": "2021-07-22T04:49:07.528269",
     "exception": false,
     "start_time": "2021-07-22T04:48:33.743877",
     "status": "completed"
    },
    "tags": []
   },
   "outputs": [],
   "source": [
    "regress.fit(X_train,y_train,epochs=200,batch_size=25)"
   ]
  },
  {
   "cell_type": "code",
   "execution_count": null,
   "id": "aa54e988",
   "metadata": {
    "execution": {
     "iopub.execute_input": "2021-07-22T04:49:09.417806Z",
     "iopub.status.busy": "2021-07-22T04:49:09.417127Z",
     "iopub.status.idle": "2021-07-22T04:49:09.419668Z",
     "shell.execute_reply": "2021-07-22T04:49:09.420294Z",
     "shell.execute_reply.started": "2021-07-21T14:58:30.906209Z"
    },
    "papermill": {
     "duration": 0.974012,
     "end_time": "2021-07-22T04:49:09.420479",
     "exception": false,
     "start_time": "2021-07-22T04:49:08.446467",
     "status": "completed"
    },
    "tags": []
   },
   "outputs": [],
   "source": [
    "print(len(data_test))\n",
    "data_total=pd.concat((data_train['capacity'], data_test['capacity']),axis=0)\n",
    "inputs=data_total[len(data_total)-len(data_test)-10:].values\n",
    "inputs=inputs.reshape(-1,1)\n",
    "inputs=sc.transform(inputs)"
   ]
  },
  {
   "cell_type": "code",
   "execution_count": null,
   "id": "9fd9e588",
   "metadata": {
    "execution": {
     "iopub.execute_input": "2021-07-22T04:49:11.319283Z",
     "iopub.status.busy": "2021-07-22T04:49:11.318526Z",
     "iopub.status.idle": "2021-07-22T04:49:12.833648Z",
     "shell.execute_reply": "2021-07-22T04:49:12.833020Z",
     "shell.execute_reply.started": "2021-07-21T14:58:30.917153Z"
    },
    "papermill": {
     "duration": 2.488307,
     "end_time": "2021-07-22T04:49:12.833801",
     "exception": false,
     "start_time": "2021-07-22T04:49:10.345494",
     "status": "completed"
    },
    "tags": []
   },
   "outputs": [],
   "source": [
    "X_test=[]\n",
    "for i in range(10,129):\n",
    "    X_test.append(inputs[i-10:i,0])\n",
    "X_test=np.array(X_test)\n",
    "X_test=np.reshape(X_test,(X_test.shape[0],X_test.shape[1],1))\n",
    "pred=regress.predict(X_test)\n",
    "print(pred.shape)\n",
    "pred=sc.inverse_transform(pred)\n",
    "pred=pred[:,0]\n",
    "tests=data_test.iloc[:,1:2]\n",
    "rmse = np.sqrt(mean_squared_error(tests, pred))\n",
    "print('Test RMSE: %.3f' % rmse)\n",
    "metrics.r2_score(tests,pred)"
   ]
  },
  {
   "cell_type": "markdown",
   "id": "d48d6d20",
   "metadata": {
    "papermill": {
     "duration": 0.912008,
     "end_time": "2021-07-22T04:49:14.657428",
     "exception": false,
     "start_time": "2021-07-22T04:49:13.745420",
     "status": "completed"
    },
    "tags": []
   },
   "source": [
    "As can be seen, the mean RMSE is 0.05 (5%), which is very close to the values observed in the literature using this type of network."
   ]
  },
  {
   "cell_type": "code",
   "execution_count": null,
   "id": "4de57b00",
   "metadata": {
    "execution": {
     "iopub.execute_input": "2021-07-22T04:49:16.497961Z",
     "iopub.status.busy": "2021-07-22T04:49:16.497149Z",
     "iopub.status.idle": "2021-07-22T04:49:16.877130Z",
     "shell.execute_reply": "2021-07-22T04:49:16.876386Z",
     "shell.execute_reply.started": "2021-07-21T14:58:32.382252Z"
    },
    "papermill": {
     "duration": 1.30042,
     "end_time": "2021-07-22T04:49:16.877281",
     "exception": false,
     "start_time": "2021-07-22T04:49:15.576861",
     "status": "completed"
    },
    "tags": []
   },
   "outputs": [],
   "source": [
    "ln = len(data_train)\n",
    "data_test['pre']=pred\n",
    "plot_df = dataset.loc[(dataset['cycle']>=1),['cycle','capacity']]\n",
    "plot_per = data_test.loc[(data_test['cycle']>=ln),['cycle','pre']]\n",
    "plt.figure(figsize=(16, 10))\n",
    "plt.plot(plot_df['cycle'], plot_df['capacity'], label=\"Actual data\", color='blue')\n",
    "plt.plot(plot_per['cycle'],plot_per['pre'],label=\"Prediction data\", color='red')\n",
    "#Draw threshold\n",
    "plt.plot([0.,168], [1.38, 1.38],dashes=[6, 2], label=\"treshold\")\n",
    "plt.ylabel('Capacity')\n",
    "# make x-axis ticks legible\n",
    "adf = plt.gca().get_xaxis().get_major_formatter()\n",
    "plt.xlabel('cycle')\n",
    "plt.legend()\n",
    "plt.title('Discharge B0005 (prediction) start in cycle 50 -RULe=-8, window-size=10')"
   ]
  },
  {
   "cell_type": "markdown",
   "id": "2753e695",
   "metadata": {
    "papermill": {
     "duration": 0.917,
     "end_time": "2021-07-22T04:49:18.732289",
     "exception": false,
     "start_time": "2021-07-22T04:49:17.815289",
     "status": "completed"
    },
    "tags": []
   },
   "source": [
    "Finally, it can be seen in the graph that the capacity value and how it behaves over time is very close to the real value and supporting these data, the error in the estimation of the RUL was -8 which makes us understand that The model went ahead by 8 cycles to estimate that the battery reached its end of life."
   ]
  },
  {
   "cell_type": "code",
   "execution_count": null,
   "id": "b70bde80",
   "metadata": {
    "execution": {
     "iopub.execute_input": "2021-07-22T04:49:20.629070Z",
     "iopub.status.busy": "2021-07-22T04:49:20.628162Z",
     "iopub.status.idle": "2021-07-22T04:49:20.631010Z",
     "shell.execute_reply": "2021-07-22T04:49:20.631515Z",
     "shell.execute_reply.started": "2021-07-21T14:58:32.719138Z"
    },
    "papermill": {
     "duration": 0.935392,
     "end_time": "2021-07-22T04:49:20.631706",
     "exception": false,
     "start_time": "2021-07-22T04:49:19.696314",
     "status": "completed"
    },
    "tags": []
   },
   "outputs": [],
   "source": [
    "pred=0\n",
    "Afil=0\n",
    "Pfil=0\n",
    "a=data_test['capacity'].values\n",
    "b=data_test['pre'].values\n",
    "j=0\n",
    "k=0\n",
    "for i in range(len(a)):\n",
    "    actual=a[i]\n",
    "    \n",
    "    if actual<=1.38:\n",
    "        j=i\n",
    "        Afil=j\n",
    "        break\n",
    "for i in range(len(a)):\n",
    "    pred=b[i]\n",
    "    if pred< 1.38:\n",
    "        k=i\n",
    "        Pfil=k\n",
    "        break\n",
    "print(\"The Actual fail at cycle number: \"+ str(Afil+ln))\n",
    "print(\"The prediction fail at cycle number: \"+ str(Pfil+ln))\n",
    "RULerror=Pfil-Afil\n",
    "print(\"The error of RUL= \"+ str(RULerror)+ \" Cycle(s)\")"
   ]
  }
 ],
 "metadata": {
  "kernelspec": {
   "display_name": "Python 3 (ipykernel)",
   "language": "python",
   "name": "python3"
  },
  "language_info": {
   "codemirror_mode": {
    "name": "ipython",
    "version": 3
   },
   "file_extension": ".py",
   "mimetype": "text/x-python",
   "name": "python",
   "nbconvert_exporter": "python",
   "pygments_lexer": "ipython3",
   "version": "3.11.5"
  },
  "papermill": {
   "default_parameters": {},
   "duration": 274.33584,
   "end_time": "2021-07-22T04:49:24.036616",
   "environment_variables": {},
   "exception": null,
   "input_path": "__notebook__.ipynb",
   "output_path": "__notebook__.ipynb",
   "parameters": {},
   "start_time": "2021-07-22T04:44:49.700776",
   "version": "2.3.3"
  }
 },
 "nbformat": 4,
 "nbformat_minor": 5
}
